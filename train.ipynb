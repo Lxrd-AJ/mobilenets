{
 "cells": [
  {
   "cell_type": "markdown",
   "metadata": {},
   "source": [
    "# Training MobileNet models\n",
    "\n",
    "For mobilenets v1"
   ]
  },
  {
   "cell_type": "code",
   "execution_count": 1,
   "metadata": {},
   "outputs": [],
   "source": [
    "import torch\n",
    "\n",
    "from mobilenet_v1 import DepthwiseSeparableConv"
   ]
  },
  {
   "cell_type": "code",
   "execution_count": null,
   "metadata": {},
   "outputs": [],
   "source": [
    "x = torch.randn(1, 3, 224, 224)\n",
    "\n",
    "c1 = torch.nn.Conv2d(3, 32, 3, stride=2, padding=1)\n",
    "x = c1(x)\n",
    "dsc = DepthwiseSeparableConv(32, 32)\n",
    "out = dsc(x)\n",
    "\n",
    "print(out)\n",
    "print(out.size())"
   ]
  },
  {
   "cell_type": "code",
   "execution_count": 38,
   "metadata": {},
   "outputs": [
    {
     "name": "stdout",
     "output_type": "stream",
     "text": [
      "torch.Size([4, 870])\n"
     ]
    }
   ],
   "source": [
    "from mobilenet_v1 import MobileNetV1\n",
    "\n",
    "model = MobileNetV1(width_multiplier=0.85)\n",
    "x = torch.randn(4, 3, 224, 224)\n",
    "out = model(x)\n",
    "print(out.size())\n"
   ]
  }
 ],
 "metadata": {
  "interpreter": {
   "hash": "aee8b7b246df8f9039afb4144a1f6fd8d2ca17a180786b69acc140d282b71a49"
  },
  "kernelspec": {
   "display_name": "Python 3.9.8 64-bit",
   "language": "python",
   "name": "python3"
  },
  "language_info": {
   "codemirror_mode": {
    "name": "ipython",
    "version": 3
   },
   "file_extension": ".py",
   "mimetype": "text/x-python",
   "name": "python",
   "nbconvert_exporter": "python",
   "pygments_lexer": "ipython3",
   "version": "3.9.8"
  },
  "orig_nbformat": 4
 },
 "nbformat": 4,
 "nbformat_minor": 2
}
